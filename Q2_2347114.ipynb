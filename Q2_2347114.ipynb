{
 "cells": [
  {
   "cell_type": "markdown",
   "metadata": {},
   "source": [
    "Name: Aarav Dubey  \n",
    "Class: 1 MCA A  \n",
    "Register No.: 2347114  \n",
    "Python Lab Q2  "
   ]
  },
  {
   "cell_type": "code",
   "execution_count": 58,
   "metadata": {},
   "outputs": [
    {
     "name": "stdout",
     "output_type": "stream",
     "text": [
      "[9, 3, 12, 9]\n"
     ]
    }
   ],
   "source": [
    "#1. LISTS\n",
    "\n",
    "numList = [2, 9, 3, 7, 12, 5, 9, 8]\n",
    "\n",
    "print([num for num in numList if num % 3 == 0])\n",
    "\n",
    "# for num in numList:\n",
    "#     if num % 3 == 0:\n",
    "#         print(num, \"is divisible by 3\")\n",
    "#     else:\n",
    "#         print(num, \"is not divisible by 3\")"
   ]
  },
  {
   "cell_type": "code",
   "execution_count": 59,
   "metadata": {},
   "outputs": [
    {
     "name": "stdout",
     "output_type": "stream",
     "text": [
      "[4, 144, 64]\n"
     ]
    }
   ],
   "source": [
    "# for num in numList:\n",
    "#     if num & 1 == 0:\n",
    "#         print(\"Square of even number\", num, \"is\", num ** 2)\n",
    "\n",
    "print([num ** 2 for num in numList if num & 1 == 0])"
   ]
  },
  {
   "cell_type": "code",
   "execution_count": 60,
   "metadata": {},
   "outputs": [
    {
     "name": "stdout",
     "output_type": "stream",
     "text": [
      "Sum of Even Numbers: 22\n",
      "Sum of digits of even numbers: 46\n"
     ]
    }
   ],
   "source": [
    "sumOfEven = 0\n",
    "\n",
    "# for num in numList:\n",
    "#     if num & 1 == 0:\n",
    "#         sumOfEven += num\n",
    "\n",
    "[sumOfEven:= sumOfEven + num for num in numList if num & 1 == 0]\n",
    "\n",
    "print(\"Sum of Even Numbers:\", sumOfEven)\n",
    "\n",
    "####################\n",
    "\n",
    "sumOfDigits = 0\n",
    "\n",
    "for num in numList:\n",
    "    temp = num\n",
    "    while temp != 0:\n",
    "        sumOfDigits += (temp % 10)\n",
    "        temp = int(temp / 10)\n",
    "\n",
    "print(\"Sum of digits of even numbers:\", sumOfDigits)"
   ]
  },
  {
   "cell_type": "code",
   "execution_count": 61,
   "metadata": {},
   "outputs": [
    {
     "name": "stdout",
     "output_type": "stream",
     "text": [
      "[2, 3, 5, 7, 8, 9, 12]\n",
      "[2, 9, 3, 7, 12, 5, 8]\n"
     ]
    }
   ],
   "source": [
    "uniqueList = list(set(numList))\n",
    "\n",
    "uniqueList2 = []\n",
    "for num in numList:\n",
    "    if num not in uniqueList2:\n",
    "        uniqueList2.append(num)\n",
    "\n",
    "print(uniqueList)\n",
    "print(uniqueList2)"
   ]
  },
  {
   "cell_type": "code",
   "execution_count": 62,
   "metadata": {},
   "outputs": [
    {
     "name": "stdout",
     "output_type": "stream",
     "text": [
      "The birthdate of student Aarav Dubey is 30 November 2002\n",
      "The birthdate of student Sushant Joshi is 25 October 2001\n"
     ]
    }
   ],
   "source": [
    "#2. Dictionary\n",
    "\n",
    "students = {\"Aarav Dubey\": '30 November 2002', \n",
    "            \"Anshul Kale\": '12 March 2003',\n",
    "            \"Sushant Joshi\": '25 October 2001'}\n",
    "\n",
    "def birthdate(name):\n",
    "    print(\"The birthdate of student\", name, \"is\", students.get(name))\n",
    "\n",
    "birthdate(\"Aarav Dubey\")\n",
    "birthdate(\"Sushant Joshi\")"
   ]
  }
 ],
 "metadata": {
  "kernelspec": {
   "display_name": "Python 3",
   "language": "python",
   "name": "python3"
  },
  "language_info": {
   "codemirror_mode": {
    "name": "ipython",
    "version": 3
   },
   "file_extension": ".py",
   "mimetype": "text/x-python",
   "name": "python",
   "nbconvert_exporter": "python",
   "pygments_lexer": "ipython3",
   "version": "3.10.0"
  },
  "orig_nbformat": 4
 },
 "nbformat": 4,
 "nbformat_minor": 2
}
